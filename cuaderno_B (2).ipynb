{
 "cells": [
  {
   "cell_type": "code",
   "execution_count": 1,
   "id": "90b4c62b-fdfa-4f89-8b34-7c4a066e6030",
   "metadata": {},
   "outputs": [
    {
     "name": "stdout",
     "output_type": "stream",
     "text": [
      "Requirement already satisfied: pandas in c:\\users\\marti\\pycharmprojects\\cuaderno_a.ipynb\\venv\\lib\\site-packages (2.1.4)\n",
      "Requirement already satisfied: numpy in c:\\users\\marti\\pycharmprojects\\cuaderno_a.ipynb\\venv\\lib\\site-packages (1.26.3)\n",
      "Requirement already satisfied: matplotlib in c:\\users\\marti\\pycharmprojects\\cuaderno_a.ipynb\\venv\\lib\\site-packages (3.8.2)\n",
      "Requirement already satisfied: seaborn in c:\\users\\marti\\pycharmprojects\\cuaderno_a.ipynb\\venv\\lib\\site-packages (0.13.1)\n",
      "Requirement already satisfied: scikit-learn in c:\\users\\marti\\pycharmprojects\\cuaderno_a.ipynb\\venv\\lib\\site-packages (1.3.2)\n",
      "Requirement already satisfied: tensorflow in c:\\users\\marti\\pycharmprojects\\cuaderno_a.ipynb\\venv\\lib\\site-packages (2.15.0)\n",
      "Requirement already satisfied: optuna in c:\\users\\marti\\pycharmprojects\\cuaderno_a.ipynb\\venv\\lib\\site-packages (3.5.0)\n",
      "Requirement already satisfied: python-dateutil>=2.8.2 in c:\\users\\marti\\pycharmprojects\\cuaderno_a.ipynb\\venv\\lib\\site-packages (from pandas) (2.8.2)\n",
      "Requirement already satisfied: pytz>=2020.1 in c:\\users\\marti\\pycharmprojects\\cuaderno_a.ipynb\\venv\\lib\\site-packages (from pandas) (2023.3.post1)\n",
      "Requirement already satisfied: tzdata>=2022.1 in c:\\users\\marti\\pycharmprojects\\cuaderno_a.ipynb\\venv\\lib\\site-packages (from pandas) (2023.4)\n",
      "Requirement already satisfied: contourpy>=1.0.1 in c:\\users\\marti\\pycharmprojects\\cuaderno_a.ipynb\\venv\\lib\\site-packages (from matplotlib) (1.2.0)\n",
      "Requirement already satisfied: cycler>=0.10 in c:\\users\\marti\\pycharmprojects\\cuaderno_a.ipynb\\venv\\lib\\site-packages (from matplotlib) (0.12.1)\n",
      "Requirement already satisfied: fonttools>=4.22.0 in c:\\users\\marti\\pycharmprojects\\cuaderno_a.ipynb\\venv\\lib\\site-packages (from matplotlib) (4.47.2)\n",
      "Requirement already satisfied: kiwisolver>=1.3.1 in c:\\users\\marti\\pycharmprojects\\cuaderno_a.ipynb\\venv\\lib\\site-packages (from matplotlib) (1.4.5)\n",
      "Requirement already satisfied: packaging>=20.0 in c:\\users\\marti\\pycharmprojects\\cuaderno_a.ipynb\\venv\\lib\\site-packages (from matplotlib) (23.2)\n",
      "Requirement already satisfied: pillow>=8 in c:\\users\\marti\\pycharmprojects\\cuaderno_a.ipynb\\venv\\lib\\site-packages (from matplotlib) (10.2.0)\n",
      "Requirement already satisfied: pyparsing>=2.3.1 in c:\\users\\marti\\pycharmprojects\\cuaderno_a.ipynb\\venv\\lib\\site-packages (from matplotlib) (3.1.1)\n",
      "Requirement already satisfied: scipy>=1.5.0 in c:\\users\\marti\\pycharmprojects\\cuaderno_a.ipynb\\venv\\lib\\site-packages (from scikit-learn) (1.11.4)\n",
      "Requirement already satisfied: joblib>=1.1.1 in c:\\users\\marti\\pycharmprojects\\cuaderno_a.ipynb\\venv\\lib\\site-packages (from scikit-learn) (1.3.2)\n",
      "Requirement already satisfied: threadpoolctl>=2.0.0 in c:\\users\\marti\\pycharmprojects\\cuaderno_a.ipynb\\venv\\lib\\site-packages (from scikit-learn) (3.2.0)\n",
      "Requirement already satisfied: tensorflow-intel==2.15.0 in c:\\users\\marti\\pycharmprojects\\cuaderno_a.ipynb\\venv\\lib\\site-packages (from tensorflow) (2.15.0)\n",
      "Requirement already satisfied: absl-py>=1.0.0 in c:\\users\\marti\\pycharmprojects\\cuaderno_a.ipynb\\venv\\lib\\site-packages (from tensorflow-intel==2.15.0->tensorflow) (2.0.0)\n",
      "Requirement already satisfied: astunparse>=1.6.0 in c:\\users\\marti\\pycharmprojects\\cuaderno_a.ipynb\\venv\\lib\\site-packages (from tensorflow-intel==2.15.0->tensorflow) (1.6.3)\n",
      "Requirement already satisfied: flatbuffers>=23.5.26 in c:\\users\\marti\\pycharmprojects\\cuaderno_a.ipynb\\venv\\lib\\site-packages (from tensorflow-intel==2.15.0->tensorflow) (23.5.26)\n",
      "Requirement already satisfied: gast!=0.5.0,!=0.5.1,!=0.5.2,>=0.2.1 in c:\\users\\marti\\pycharmprojects\\cuaderno_a.ipynb\\venv\\lib\\site-packages (from tensorflow-intel==2.15.0->tensorflow) (0.5.4)\n",
      "Requirement already satisfied: google-pasta>=0.1.1 in c:\\users\\marti\\pycharmprojects\\cuaderno_a.ipynb\\venv\\lib\\site-packages (from tensorflow-intel==2.15.0->tensorflow) (0.2.0)\n",
      "Requirement already satisfied: h5py>=2.9.0 in c:\\users\\marti\\pycharmprojects\\cuaderno_a.ipynb\\venv\\lib\\site-packages (from tensorflow-intel==2.15.0->tensorflow) (3.10.0)\n",
      "Requirement already satisfied: libclang>=13.0.0 in c:\\users\\marti\\pycharmprojects\\cuaderno_a.ipynb\\venv\\lib\\site-packages (from tensorflow-intel==2.15.0->tensorflow) (16.0.6)\n",
      "Requirement already satisfied: ml-dtypes~=0.2.0 in c:\\users\\marti\\pycharmprojects\\cuaderno_a.ipynb\\venv\\lib\\site-packages (from tensorflow-intel==2.15.0->tensorflow) (0.2.0)\n",
      "Requirement already satisfied: opt-einsum>=2.3.2 in c:\\users\\marti\\pycharmprojects\\cuaderno_a.ipynb\\venv\\lib\\site-packages (from tensorflow-intel==2.15.0->tensorflow) (3.3.0)\n",
      "Requirement already satisfied: protobuf!=4.21.0,!=4.21.1,!=4.21.2,!=4.21.3,!=4.21.4,!=4.21.5,<5.0.0dev,>=3.20.3 in c:\\users\\marti\\pycharmprojects\\cuaderno_a.ipynb\\venv\\lib\\site-packages (from tensorflow-intel==2.15.0->tensorflow) (4.23.4)\n",
      "Requirement already satisfied: setuptools in c:\\users\\marti\\pycharmprojects\\cuaderno_a.ipynb\\venv\\lib\\site-packages (from tensorflow-intel==2.15.0->tensorflow) (65.5.1)\n",
      "Requirement already satisfied: six>=1.12.0 in c:\\users\\marti\\pycharmprojects\\cuaderno_a.ipynb\\venv\\lib\\site-packages (from tensorflow-intel==2.15.0->tensorflow) (1.16.0)\n",
      "Requirement already satisfied: termcolor>=1.1.0 in c:\\users\\marti\\pycharmprojects\\cuaderno_a.ipynb\\venv\\lib\\site-packages (from tensorflow-intel==2.15.0->tensorflow) (2.4.0)\n",
      "Requirement already satisfied: typing-extensions>=3.6.6 in c:\\users\\marti\\pycharmprojects\\cuaderno_a.ipynb\\venv\\lib\\site-packages (from tensorflow-intel==2.15.0->tensorflow) (4.9.0)\n",
      "Requirement already satisfied: wrapt<1.15,>=1.11.0 in c:\\users\\marti\\pycharmprojects\\cuaderno_a.ipynb\\venv\\lib\\site-packages (from tensorflow-intel==2.15.0->tensorflow) (1.14.1)\n",
      "Requirement already satisfied: tensorflow-io-gcs-filesystem>=0.23.1 in c:\\users\\marti\\pycharmprojects\\cuaderno_a.ipynb\\venv\\lib\\site-packages (from tensorflow-intel==2.15.0->tensorflow) (0.31.0)\n",
      "Requirement already satisfied: grpcio<2.0,>=1.24.3 in c:\\users\\marti\\pycharmprojects\\cuaderno_a.ipynb\\venv\\lib\\site-packages (from tensorflow-intel==2.15.0->tensorflow) (1.60.0)\n",
      "Requirement already satisfied: tensorboard<2.16,>=2.15 in c:\\users\\marti\\pycharmprojects\\cuaderno_a.ipynb\\venv\\lib\\site-packages (from tensorflow-intel==2.15.0->tensorflow) (2.15.1)\n",
      "Requirement already satisfied: tensorflow-estimator<2.16,>=2.15.0 in c:\\users\\marti\\pycharmprojects\\cuaderno_a.ipynb\\venv\\lib\\site-packages (from tensorflow-intel==2.15.0->tensorflow) (2.15.0)\n",
      "Requirement already satisfied: keras<2.16,>=2.15.0 in c:\\users\\marti\\pycharmprojects\\cuaderno_a.ipynb\\venv\\lib\\site-packages (from tensorflow-intel==2.15.0->tensorflow) (2.15.0)\n",
      "Requirement already satisfied: alembic>=1.5.0 in c:\\users\\marti\\pycharmprojects\\cuaderno_a.ipynb\\venv\\lib\\site-packages (from optuna) (1.13.1)\n",
      "Requirement already satisfied: colorlog in c:\\users\\marti\\pycharmprojects\\cuaderno_a.ipynb\\venv\\lib\\site-packages (from optuna) (6.8.0)\n",
      "Requirement already satisfied: sqlalchemy>=1.3.0 in c:\\users\\marti\\pycharmprojects\\cuaderno_a.ipynb\\venv\\lib\\site-packages (from optuna) (2.0.25)\n",
      "Requirement already satisfied: tqdm in c:\\users\\marti\\pycharmprojects\\cuaderno_a.ipynb\\venv\\lib\\site-packages (from optuna) (4.66.1)\n",
      "Requirement already satisfied: PyYAML in c:\\users\\marti\\pycharmprojects\\cuaderno_a.ipynb\\venv\\lib\\site-packages (from optuna) (6.0.1)\n",
      "Requirement already satisfied: Mako in c:\\users\\marti\\pycharmprojects\\cuaderno_a.ipynb\\venv\\lib\\site-packages (from alembic>=1.5.0->optuna) (1.3.0)\n",
      "Requirement already satisfied: greenlet!=0.4.17 in c:\\users\\marti\\pycharmprojects\\cuaderno_a.ipynb\\venv\\lib\\site-packages (from sqlalchemy>=1.3.0->optuna) (3.0.3)\n",
      "Requirement already satisfied: colorama in c:\\users\\marti\\pycharmprojects\\cuaderno_a.ipynb\\venv\\lib\\site-packages (from colorlog->optuna) (0.4.6)\n",
      "Requirement already satisfied: wheel<1.0,>=0.23.0 in c:\\users\\marti\\pycharmprojects\\cuaderno_a.ipynb\\venv\\lib\\site-packages (from astunparse>=1.6.0->tensorflow-intel==2.15.0->tensorflow) (0.38.4)\n",
      "Requirement already satisfied: google-auth<3,>=1.6.3 in c:\\users\\marti\\pycharmprojects\\cuaderno_a.ipynb\\venv\\lib\\site-packages (from tensorboard<2.16,>=2.15->tensorflow-intel==2.15.0->tensorflow) (2.26.2)\n",
      "Requirement already satisfied: google-auth-oauthlib<2,>=0.5 in c:\\users\\marti\\pycharmprojects\\cuaderno_a.ipynb\\venv\\lib\\site-packages (from tensorboard<2.16,>=2.15->tensorflow-intel==2.15.0->tensorflow) (1.2.0)\n",
      "Requirement already satisfied: markdown>=2.6.8 in c:\\users\\marti\\pycharmprojects\\cuaderno_a.ipynb\\venv\\lib\\site-packages (from tensorboard<2.16,>=2.15->tensorflow-intel==2.15.0->tensorflow) (3.5.2)\n",
      "Requirement already satisfied: requests<3,>=2.21.0 in c:\\users\\marti\\pycharmprojects\\cuaderno_a.ipynb\\venv\\lib\\site-packages (from tensorboard<2.16,>=2.15->tensorflow-intel==2.15.0->tensorflow) (2.31.0)\n",
      "Requirement already satisfied: tensorboard-data-server<0.8.0,>=0.7.0 in c:\\users\\marti\\pycharmprojects\\cuaderno_a.ipynb\\venv\\lib\\site-packages (from tensorboard<2.16,>=2.15->tensorflow-intel==2.15.0->tensorflow) (0.7.2)\n",
      "Requirement already satisfied: werkzeug>=1.0.1 in c:\\users\\marti\\pycharmprojects\\cuaderno_a.ipynb\\venv\\lib\\site-packages (from tensorboard<2.16,>=2.15->tensorflow-intel==2.15.0->tensorflow) (3.0.1)\n",
      "Requirement already satisfied: MarkupSafe>=0.9.2 in c:\\users\\marti\\pycharmprojects\\cuaderno_a.ipynb\\venv\\lib\\site-packages (from Mako->alembic>=1.5.0->optuna) (2.1.3)\n",
      "Requirement already satisfied: cachetools<6.0,>=2.0.0 in c:\\users\\marti\\pycharmprojects\\cuaderno_a.ipynb\\venv\\lib\\site-packages (from google-auth<3,>=1.6.3->tensorboard<2.16,>=2.15->tensorflow-intel==2.15.0->tensorflow) (5.3.2)\n",
      "Requirement already satisfied: pyasn1-modules>=0.2.1 in c:\\users\\marti\\pycharmprojects\\cuaderno_a.ipynb\\venv\\lib\\site-packages (from google-auth<3,>=1.6.3->tensorboard<2.16,>=2.15->tensorflow-intel==2.15.0->tensorflow) (0.3.0)\n",
      "Requirement already satisfied: rsa<5,>=3.1.4 in c:\\users\\marti\\pycharmprojects\\cuaderno_a.ipynb\\venv\\lib\\site-packages (from google-auth<3,>=1.6.3->tensorboard<2.16,>=2.15->tensorflow-intel==2.15.0->tensorflow) (4.9)\n",
      "Requirement already satisfied: requests-oauthlib>=0.7.0 in c:\\users\\marti\\pycharmprojects\\cuaderno_a.ipynb\\venv\\lib\\site-packages (from google-auth-oauthlib<2,>=0.5->tensorboard<2.16,>=2.15->tensorflow-intel==2.15.0->tensorflow) (1.3.1)\n",
      "Requirement already satisfied: charset-normalizer<4,>=2 in c:\\users\\marti\\pycharmprojects\\cuaderno_a.ipynb\\venv\\lib\\site-packages (from requests<3,>=2.21.0->tensorboard<2.16,>=2.15->tensorflow-intel==2.15.0->tensorflow) (3.3.2)\n",
      "Requirement already satisfied: idna<4,>=2.5 in c:\\users\\marti\\pycharmprojects\\cuaderno_a.ipynb\\venv\\lib\\site-packages (from requests<3,>=2.21.0->tensorboard<2.16,>=2.15->tensorflow-intel==2.15.0->tensorflow) (3.6)\n",
      "Requirement already satisfied: urllib3<3,>=1.21.1 in c:\\users\\marti\\pycharmprojects\\cuaderno_a.ipynb\\venv\\lib\\site-packages (from requests<3,>=2.21.0->tensorboard<2.16,>=2.15->tensorflow-intel==2.15.0->tensorflow) (2.1.0)\n",
      "Requirement already satisfied: certifi>=2017.4.17 in c:\\users\\marti\\pycharmprojects\\cuaderno_a.ipynb\\venv\\lib\\site-packages (from requests<3,>=2.21.0->tensorboard<2.16,>=2.15->tensorflow-intel==2.15.0->tensorflow) (2023.11.17)\n",
      "Requirement already satisfied: pyasn1<0.6.0,>=0.4.6 in c:\\users\\marti\\pycharmprojects\\cuaderno_a.ipynb\\venv\\lib\\site-packages (from pyasn1-modules>=0.2.1->google-auth<3,>=1.6.3->tensorboard<2.16,>=2.15->tensorflow-intel==2.15.0->tensorflow) (0.5.1)\n",
      "Requirement already satisfied: oauthlib>=3.0.0 in c:\\users\\marti\\pycharmprojects\\cuaderno_a.ipynb\\venv\\lib\\site-packages (from requests-oauthlib>=0.7.0->google-auth-oauthlib<2,>=0.5->tensorboard<2.16,>=2.15->tensorflow-intel==2.15.0->tensorflow) (3.2.2)\n"
     ]
    },
    {
     "name": "stderr",
     "output_type": "stream",
     "text": [
      "\n",
      "[notice] A new release of pip available: 22.3.1 -> 23.3.2\n",
      "[notice] To update, run: python.exe -m pip install --upgrade pip\n"
     ]
    }
   ],
   "source": [
    "!pip install pandas numpy matplotlib seaborn scikit-learn tensorflow optuna\n"
   ]
  },
  {
   "cell_type": "code",
   "execution_count": 2,
   "id": "97a5afea-d158-414a-ab97-e3814c3f5b2e",
   "metadata": {},
   "outputs": [
    {
     "name": "stdout",
     "output_type": "stream",
     "text": [
      "WARNING:tensorflow:From C:\\Users\\marti\\PycharmProjects\\cuaderno_A.ipynb\\venv\\Lib\\site-packages\\keras\\src\\losses.py:2976: The name tf.losses.sparse_softmax_cross_entropy is deprecated. Please use tf.compat.v1.losses.sparse_softmax_cross_entropy instead.\n",
      "\n"
     ]
    },
    {
     "name": "stderr",
     "output_type": "stream",
     "text": [
      "C:\\Users\\marti\\PycharmProjects\\cuaderno_A.ipynb\\venv\\Lib\\site-packages\\tqdm\\auto.py:21: TqdmWarning: IProgress not found. Please update jupyter and ipywidgets. See https://ipywidgets.readthedocs.io/en/stable/user_install.html\n",
      "  from .autonotebook import tqdm as notebook_tqdm\n"
     ]
    }
   ],
   "source": [
    "import pandas as pd\n",
    "import numpy as np\n",
    "from sklearn.model_selection import train_test_split\n",
    "from sklearn.preprocessing import StandardScaler\n",
    "from sklearn.impute import SimpleImputer\n",
    "from sklearn.metrics import mean_squared_error, r2_score\n",
    "from sklearn.ensemble import RandomForestRegressor\n",
    "from sklearn.linear_model import LinearRegression\n",
    "import tensorflow as tf\n",
    "from tensorflow.keras.models import Sequential\n",
    "from tensorflow.keras.layers import Dense\n",
    "import optuna\n",
    "import joblib\n"
   ]
  },
  {
   "cell_type": "code",
   "execution_count": 3,
   "id": "ae582a56-a187-4e37-884e-440ade64e3fb",
   "metadata": {},
   "outputs": [
    {
     "ename": "FileNotFoundError",
     "evalue": "[Errno 2] No such file or directory: 'X_train.npy'",
     "output_type": "error",
     "traceback": [
      "\u001b[1;31m---------------------------------------------------------------------------\u001b[0m",
      "\u001b[1;31mFileNotFoundError\u001b[0m                         Traceback (most recent call last)",
      "Cell \u001b[1;32mIn[3], line 2\u001b[0m\n\u001b[0;32m      1\u001b[0m \u001b[38;5;66;03m# Importar datos preprocesados desde el cuaderno_A\u001b[39;00m\n\u001b[1;32m----> 2\u001b[0m X_train_scaled_imputed \u001b[38;5;241m=\u001b[39m \u001b[43mnp\u001b[49m\u001b[38;5;241;43m.\u001b[39;49m\u001b[43mload\u001b[49m\u001b[43m(\u001b[49m\u001b[38;5;124;43m'\u001b[39;49m\u001b[38;5;124;43mX_train.npy\u001b[39;49m\u001b[38;5;124;43m'\u001b[39;49m\u001b[43m)\u001b[49m\n\u001b[0;32m      3\u001b[0m X_test_scaled_imputed \u001b[38;5;241m=\u001b[39m np\u001b[38;5;241m.\u001b[39mload(\u001b[38;5;124m'\u001b[39m\u001b[38;5;124mX_test.npy\u001b[39m\u001b[38;5;124m'\u001b[39m)\n\u001b[0;32m      4\u001b[0m y_train \u001b[38;5;241m=\u001b[39m np\u001b[38;5;241m.\u001b[39mload(\u001b[38;5;124m'\u001b[39m\u001b[38;5;124my_train.npy\u001b[39m\u001b[38;5;124m'\u001b[39m)\n",
      "File \u001b[1;32m~\\PycharmProjects\\cuaderno_A.ipynb\\venv\\Lib\\site-packages\\numpy\\lib\\npyio.py:427\u001b[0m, in \u001b[0;36mload\u001b[1;34m(file, mmap_mode, allow_pickle, fix_imports, encoding, max_header_size)\u001b[0m\n\u001b[0;32m    425\u001b[0m     own_fid \u001b[38;5;241m=\u001b[39m \u001b[38;5;28;01mFalse\u001b[39;00m\n\u001b[0;32m    426\u001b[0m \u001b[38;5;28;01melse\u001b[39;00m:\n\u001b[1;32m--> 427\u001b[0m     fid \u001b[38;5;241m=\u001b[39m stack\u001b[38;5;241m.\u001b[39menter_context(\u001b[38;5;28;43mopen\u001b[39;49m\u001b[43m(\u001b[49m\u001b[43mos_fspath\u001b[49m\u001b[43m(\u001b[49m\u001b[43mfile\u001b[49m\u001b[43m)\u001b[49m\u001b[43m,\u001b[49m\u001b[43m \u001b[49m\u001b[38;5;124;43m\"\u001b[39;49m\u001b[38;5;124;43mrb\u001b[39;49m\u001b[38;5;124;43m\"\u001b[39;49m\u001b[43m)\u001b[49m)\n\u001b[0;32m    428\u001b[0m     own_fid \u001b[38;5;241m=\u001b[39m \u001b[38;5;28;01mTrue\u001b[39;00m\n\u001b[0;32m    430\u001b[0m \u001b[38;5;66;03m# Code to distinguish from NumPy binary files and pickles.\u001b[39;00m\n",
      "\u001b[1;31mFileNotFoundError\u001b[0m: [Errno 2] No such file or directory: 'X_train.npy'"
     ]
    }
   ],
   "source": [
    "\n",
    "# Importar datos preprocesados desde el cuaderno_A\n",
    "X_train_scaled_imputed = np.load('X_train.npy')\n",
    "X_test_scaled_imputed = np.load('X_test.npy')\n",
    "y_train = np.load('y_train.npy')\n",
    "test_data = np.load('test_data.npy')\n",
    "\n"
   ]
  },
  {
   "cell_type": "code",
   "execution_count": null,
   "id": "a323d18c-e647-4541-ace6-fe1b8df4c708",
   "metadata": {},
   "outputs": [],
   "source": [
    "# Modelo de Deep Learning\n",
    "model_dl = Sequential()\n",
    "model_dl.add(Dense(30, activation='relu', input_shape=(X_train_scaled_imputed.shape[1],)))\n",
    "model_dl.add(Dense(1))\n",
    "model_dl.compile(optimizer='adam', loss='mean_squared_error')\n",
    "\n",
    "model_dl.fit(X_train_scaled_imputed, y_train, epochs=50, batch_size=32, validation_split=0.2)\n",
    "\n"
   ]
  },
  {
   "cell_type": "code",
   "execution_count": null,
   "id": "60464141-19da-4fc1-9e6e-e65a0a88b3ce",
   "metadata": {},
   "outputs": [],
   "source": [
    "# Modelo de Machine Learning\n",
    "model_ml = RandomForestRegressor(n_estimators=100, random_state=42)\n",
    "model_ml.fit(X_train_scaled_imputed, y_train)\n"
   ]
  },
  {
   "cell_type": "code",
   "execution_count": null,
   "id": "9bad4baf-1f98-42e6-a2ca-3d4c047ec7cb",
   "metadata": {},
   "outputs": [],
   "source": [
    "# Evaluación del modelo de Deep Learning\n",
    "y_test = test_data[\"median_house_value\"].copy()\n",
    "X_test_scaled_imputed = scaler.transform(X_test_imputed)\n",
    "y_pred_dl_imputed = model_dl.predict(X_test_scaled_imputed)\n",
    "mse_dl_imputed = mean_squared_error(y_test, y_pred_dl_imputed)\n",
    "r2_dl_imputed = r2_score(y_test, y_pred_dl_imputed)\n",
    "print(f\"Deep Learning con Imputación - Mean Squared Error: {mse_dl_imputed}, R^2 Score: {r2_dl_imputed}\")\n"
   ]
  },
  {
   "cell_type": "code",
   "execution_count": null,
   "id": "65d7c07a-e982-4457-8e46-1c84c4d71149",
   "metadata": {},
   "outputs": [],
   "source": [
    "# Evaluación del modelo de Machine Learning\n",
    "y_pred_ml_imputed = model_ml.predict(X_test_scaled_imputed)\n",
    "mse_ml_imputed = mean_squared_error(y_test, y_pred_ml_imputed)\n",
    "r2_ml_imputed = r2_score(y_test, y_pred_ml_imputed)\n",
    "print(f\"Machine Learning con Imputación - Mean Squared Error: {mse_ml_imputed}, R^2 Score: {r2_ml_imputed}\")\n"
   ]
  },
  {
   "cell_type": "code",
   "execution_count": null,
   "id": "ec601089-11a1-407f-83fd-a5d1f689cfef",
   "metadata": {},
   "outputs": [],
   "source": [
    "# Ajuste de Hiperparámetros (utilizando Optuna)\n",
    "def objective(trial):\n",
    "    n_estimators = trial.suggest_int('n_estimators', 10, 200)\n",
    "    max_depth = trial.suggest_int('max_depth', 5, 30)\n",
    "    model = RandomForestRegressor(n_estimators=n_estimators, max_depth=max_depth, random_state=42)\n",
    "    model.fit(X_train_scaled_imputed, y_train)\n",
    "    y_pred = model.predict(X_test_scaled_imputed)\n",
    "    return mean_squared_error(y_test, y_pred)\n",
    "\n",
    "study = optuna.create_study(direction='minimize')\n",
    "study.optimize(objective, n_trials=10)\n",
    "\n",
    "best_params = study.best_params\n",
    "best_model = RandomForestRegressor(n_estimators=best_params['n_estimators'],\n",
    "                                    max_depth=best_params['max_depth'], random_state=42)\n",
    "best_model.fit(X_train_scaled_imputed, y_train)\n",
    "\n",
    "y_pred_best = best_model.predict(X_test_scaled_imputed)\n",
    "mse_best = mean_squared_error(y_test, y_pred_best)\n",
    "r2_best = r2_score(y_test, y_pred_best)\n",
    "print(f\"Best Model - Mean Squared Error: {mse_best}, R^2 Score: {r2_best}\")"
   ]
  },
  {
   "cell_type": "code",
   "execution_count": null,
   "id": "c5d115a7-fd6f-4948-9460-18249eeead9f",
   "metadata": {},
   "outputs": [],
   "source": [
    "# Ruta donde se guardarán los modelos\n",
    "ruta_modelos = 'modelos/'\n",
    "\n",
    "# Guardar el modelo de Deep Learning\n",
    "model_dl.save(f'{ruta_modelos}modelo_dl')\n",
    "\n",
    "# Guardar el modelo de Machine Learning\n",
    "ruta_modelo_ml = f'{ruta_modelos}modelo_ml.joblib'\n",
    "joblib.dump(model_ml, ruta_modelo_ml)\n",
    "\n",
    "# Guardar el mejor modelo\n",
    "ruta_mejor_modelo = f'{ruta_modelos}mejor_modelo.joblib'\n",
    "joblib.dump(best_model, ruta_mejor_modelo)\n",
    "\n",
    "# Puedes imprimir un mensaje indicando la ubicación de los modelos guardados\n",
    "print(f\"Modelos guardados en: {ruta_modelos}\")"
   ]
  },
  {
   "cell_type": "code",
   "execution_count": null,
   "id": "94c84b78-fe8c-409b-beaa-42a440ed22b0",
   "metadata": {},
   "outputs": [],
   "source": []
  }
 ],
 "metadata": {
  "kernelspec": {
   "display_name": "Python 3 (ipykernel)",
   "language": "python",
   "name": "python3"
  },
  "language_info": {
   "codemirror_mode": {
    "name": "ipython",
    "version": 3
   },
   "file_extension": ".py",
   "mimetype": "text/x-python",
   "name": "python",
   "nbconvert_exporter": "python",
   "pygments_lexer": "ipython3",
   "version": "3.11.4"
  }
 },
 "nbformat": 4,
 "nbformat_minor": 5
}
