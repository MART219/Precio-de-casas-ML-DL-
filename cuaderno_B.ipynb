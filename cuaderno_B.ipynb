{
 "cells": [
  {
   "cell_type": "code",
   "execution_count": null,
   "id": "90b4c62b-fdfa-4f89-8b34-7c4a066e6030",
   "metadata": {},
   "outputs": [],
   "source": [
    "!pip install pandas numpy matplotlib seaborn scikit-learn tensorflow optuna\n"
   ]
  },
  {
   "cell_type": "code",
   "execution_count": null,
   "id": "97a5afea-d158-414a-ab97-e3814c3f5b2e",
   "metadata": {},
   "outputs": [],
   "source": [
    "import pandas as pd\n",
    "import numpy as np\n",
    "from sklearn.model_selection import train_test_split\n",
    "from sklearn.preprocessing import StandardScaler\n",
    "from sklearn.impute import SimpleImputer\n",
    "from sklearn.metrics import mean_squared_error, r2_score\n",
    "from sklearn.ensemble import RandomForestRegressor\n",
    "from sklearn.linear_model import LinearRegression\n",
    "import tensorflow as tf\n",
    "from tensorflow.keras.models import Sequential\n",
    "from tensorflow.keras.layers import Dense\n",
    "import optuna\n",
    "import joblib\n"
   ]
  },
  {
   "cell_type": "code",
   "execution_count": null,
   "id": "ae582a56-a187-4e37-884e-440ade64e3fb",
   "metadata": {},
   "outputs": [],
   "source": [
    "# Importar datos preprocesados desde el cuaderno_A\n",
    "X_train_scaled_imputed = np.load('X_train.npy')\n",
    "X_test_scaled_imputed = np.load('X_test.npy')\n",
    "y_train = np.load('y_train.npy')\n",
    "\n"
   ]
  },
  {
   "cell_type": "code",
   "execution_count": null,
   "id": "a323d18c-e647-4541-ace6-fe1b8df4c708",
   "metadata": {},
   "outputs": [],
   "source": [
    "# Modelo de Deep Learning\n",
    "model_dl = Sequential()\n",
    "model_dl.add(Dense(30, activation='relu', input_shape=(X_train_scaled_imputed.shape[1],)))\n",
    "model_dl.add(Dense(1))\n",
    "model_dl.compile(optimizer='adam', loss='mean_squared_error')\n",
    "\n",
    "model_dl.fit(X_train_scaled_imputed, y_train, epochs=50, batch_size=32, validation_split=0.2)\n",
    "\n"
   ]
  },
  {
   "cell_type": "code",
   "execution_count": null,
   "id": "60464141-19da-4fc1-9e6e-e65a0a88b3ce",
   "metadata": {},
   "outputs": [],
   "source": [
    "# Modelo de Machine Learning\n",
    "model_ml = RandomForestRegressor(n_estimators=100, random_state=42)\n",
    "model_ml.fit(X_train_scaled_imputed, y_train)\n"
   ]
  },
  {
   "cell_type": "code",
   "execution_count": null,
   "id": "9bad4baf-1f98-42e6-a2ca-3d4c047ec7cb",
   "metadata": {},
   "outputs": [],
   "source": [
    "# Evaluación del modelo de Deep Learning\n",
    "y_test = test_data[\"median_house_value\"].copy()\n",
    "X_test_scaled_imputed = scaler.transform(X_test_imputed)\n",
    "y_pred_dl_imputed = model_dl.predict(X_test_scaled_imputed)\n",
    "mse_dl_imputed = mean_squared_error(y_test, y_pred_dl_imputed)\n",
    "r2_dl_imputed = r2_score(y_test, y_pred_dl_imputed)\n",
    "print(f\"Deep Learning con Imputación - Mean Squared Error: {mse_dl_imputed}, R^2 Score: {r2_dl_imputed}\")\n"
   ]
  },
  {
   "cell_type": "code",
   "execution_count": null,
   "id": "65d7c07a-e982-4457-8e46-1c84c4d71149",
   "metadata": {},
   "outputs": [],
   "source": [
    "# Evaluación del modelo de Machine Learning\n",
    "y_pred_ml_imputed = model_ml.predict(X_test_scaled_imputed)\n",
    "mse_ml_imputed = mean_squared_error(y_test, y_pred_ml_imputed)\n",
    "r2_ml_imputed = r2_score(y_test, y_pred_ml_imputed)\n",
    "print(f\"Machine Learning con Imputación - Mean Squared Error: {mse_ml_imputed}, R^2 Score: {r2_ml_imputed}\")\n"
   ]
  },
  {
   "cell_type": "code",
   "execution_count": null,
   "id": "ec601089-11a1-407f-83fd-a5d1f689cfef",
   "metadata": {},
   "outputs": [],
   "source": [
    "# Ajuste de Hiperparámetros (utilizando Optuna)\n",
    "def objective(trial):\n",
    "    n_estimators = trial.suggest_int('n_estimators', 10, 200)\n",
    "    max_depth = trial.suggest_int('max_depth', 5, 30)\n",
    "    model = RandomForestRegressor(n_estimators=n_estimators, max_depth=max_depth, random_state=42)\n",
    "    model.fit(X_train_scaled_imputed, y_train)\n",
    "    y_pred = model.predict(X_test_scaled_imputed)\n",
    "    return mean_squared_error(y_test, y_pred)\n",
    "\n",
    "study = optuna.create_study(direction='minimize')\n",
    "study.optimize(objective, n_trials=10)\n",
    "\n",
    "best_params = study.best_params\n",
    "best_model = RandomForestRegressor(n_estimators=best_params['n_estimators'],\n",
    "                                    max_depth=best_params['max_depth'], random_state=42)\n",
    "best_model.fit(X_train_scaled_imputed, y_train)\n",
    "\n",
    "y_pred_best = best_model.predict(X_test_scaled_imputed)\n",
    "mse_best = mean_squared_error(y_test, y_pred_best)\n",
    "r2_best = r2_score(y_test, y_pred_best)\n",
    "print(f\"Best Model - Mean Squared Error: {mse_best}, R^2 Score: {r2_best}\")"
   ]
  },
  {
   "cell_type": "code",
   "execution_count": null,
   "id": "c5d115a7-fd6f-4948-9460-18249eeead9f",
   "metadata": {},
   "outputs": [],
   "source": [
    "# Ruta donde se guardarán los modelos\n",
    "ruta_modelos = 'modelos/'\n",
    "\n",
    "# Guardar el modelo de Deep Learning\n",
    "model_dl.save(f'{ruta_modelos}modelo_dl')\n",
    "\n",
    "# Guardar el modelo de Machine Learning\n",
    "ruta_modelo_ml = f'{ruta_modelos}modelo_ml.joblib'\n",
    "joblib.dump(model_ml, ruta_modelo_ml)\n",
    "\n",
    "# Guardar el mejor modelo\n",
    "ruta_mejor_modelo = f'{ruta_modelos}mejor_modelo.joblib'\n",
    "joblib.dump(best_model, ruta_mejor_modelo)\n",
    "\n",
    "# Puedes imprimir un mensaje indicando la ubicación de los modelos guardados\n",
    "print(f\"Modelos guardados en: {ruta_modelos}\")"
   ]
  }
 ],
 "metadata": {
  "kernelspec": {
   "display_name": "Python 3 (ipykernel)",
   "language": "python",
   "name": "python3"
  },
  "language_info": {
   "codemirror_mode": {
    "name": "ipython",
    "version": 3
   },
   "file_extension": ".py",
   "mimetype": "text/x-python",
   "name": "python",
   "nbconvert_exporter": "python",
   "pygments_lexer": "ipython3",
   "version": "3.11.4"
  }
 },
 "nbformat": 4,
 "nbformat_minor": 5
}
