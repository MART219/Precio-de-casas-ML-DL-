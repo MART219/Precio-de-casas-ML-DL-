{
 "cells": [
  {
   "cell_type": "code",
   "execution_count": 12,
   "id": "90b4c62b-fdfa-4f89-8b34-7c4a066e6030",
   "metadata": {},
   "outputs": [
    {
     "name": "stdout",
     "output_type": "stream",
     "text": [
      "Requirement already satisfied: pandas in c:\\users\\marti\\pycharmprojects\\cuaderno_a.ipynb\\venv\\lib\\site-packages (2.1.4)\n",
      "Requirement already satisfied: numpy in c:\\users\\marti\\pycharmprojects\\cuaderno_a.ipynb\\venv\\lib\\site-packages (1.26.3)\n",
      "Requirement already satisfied: matplotlib in c:\\users\\marti\\pycharmprojects\\cuaderno_a.ipynb\\venv\\lib\\site-packages (3.8.2)\n",
      "Requirement already satisfied: seaborn in c:\\users\\marti\\pycharmprojects\\cuaderno_a.ipynb\\venv\\lib\\site-packages (0.13.1)\n",
      "Requirement already satisfied: scikit-learn in c:\\users\\marti\\pycharmprojects\\cuaderno_a.ipynb\\venv\\lib\\site-packages (1.3.2)\n",
      "Requirement already satisfied: tensorflow in c:\\users\\marti\\pycharmprojects\\cuaderno_a.ipynb\\venv\\lib\\site-packages (2.15.0)\n",
      "Requirement already satisfied: optuna in c:\\users\\marti\\pycharmprojects\\cuaderno_a.ipynb\\venv\\lib\\site-packages (3.5.0)\n",
      "Requirement already satisfied: python-dateutil>=2.8.2 in c:\\users\\marti\\pycharmprojects\\cuaderno_a.ipynb\\venv\\lib\\site-packages (from pandas) (2.8.2)\n",
      "Requirement already satisfied: pytz>=2020.1 in c:\\users\\marti\\pycharmprojects\\cuaderno_a.ipynb\\venv\\lib\\site-packages (from pandas) (2023.3.post1)\n",
      "Requirement already satisfied: tzdata>=2022.1 in c:\\users\\marti\\pycharmprojects\\cuaderno_a.ipynb\\venv\\lib\\site-packages (from pandas) (2023.4)\n",
      "Requirement already satisfied: contourpy>=1.0.1 in c:\\users\\marti\\pycharmprojects\\cuaderno_a.ipynb\\venv\\lib\\site-packages (from matplotlib) (1.2.0)\n",
      "Requirement already satisfied: cycler>=0.10 in c:\\users\\marti\\pycharmprojects\\cuaderno_a.ipynb\\venv\\lib\\site-packages (from matplotlib) (0.12.1)\n",
      "Requirement already satisfied: fonttools>=4.22.0 in c:\\users\\marti\\pycharmprojects\\cuaderno_a.ipynb\\venv\\lib\\site-packages (from matplotlib) (4.47.2)\n",
      "Requirement already satisfied: kiwisolver>=1.3.1 in c:\\users\\marti\\pycharmprojects\\cuaderno_a.ipynb\\venv\\lib\\site-packages (from matplotlib) (1.4.5)\n",
      "Requirement already satisfied: packaging>=20.0 in c:\\users\\marti\\pycharmprojects\\cuaderno_a.ipynb\\venv\\lib\\site-packages (from matplotlib) (23.2)\n",
      "Requirement already satisfied: pillow>=8 in c:\\users\\marti\\pycharmprojects\\cuaderno_a.ipynb\\venv\\lib\\site-packages (from matplotlib) (10.2.0)\n",
      "Requirement already satisfied: pyparsing>=2.3.1 in c:\\users\\marti\\pycharmprojects\\cuaderno_a.ipynb\\venv\\lib\\site-packages (from matplotlib) (3.1.1)\n",
      "Requirement already satisfied: scipy>=1.5.0 in c:\\users\\marti\\pycharmprojects\\cuaderno_a.ipynb\\venv\\lib\\site-packages (from scikit-learn) (1.11.4)\n",
      "Requirement already satisfied: joblib>=1.1.1 in c:\\users\\marti\\pycharmprojects\\cuaderno_a.ipynb\\venv\\lib\\site-packages (from scikit-learn) (1.3.2)\n",
      "Requirement already satisfied: threadpoolctl>=2.0.0 in c:\\users\\marti\\pycharmprojects\\cuaderno_a.ipynb\\venv\\lib\\site-packages (from scikit-learn) (3.2.0)\n",
      "Requirement already satisfied: tensorflow-intel==2.15.0 in c:\\users\\marti\\pycharmprojects\\cuaderno_a.ipynb\\venv\\lib\\site-packages (from tensorflow) (2.15.0)\n",
      "Requirement already satisfied: absl-py>=1.0.0 in c:\\users\\marti\\pycharmprojects\\cuaderno_a.ipynb\\venv\\lib\\site-packages (from tensorflow-intel==2.15.0->tensorflow) (2.0.0)\n",
      "Requirement already satisfied: astunparse>=1.6.0 in c:\\users\\marti\\pycharmprojects\\cuaderno_a.ipynb\\venv\\lib\\site-packages (from tensorflow-intel==2.15.0->tensorflow) (1.6.3)\n",
      "Requirement already satisfied: flatbuffers>=23.5.26 in c:\\users\\marti\\pycharmprojects\\cuaderno_a.ipynb\\venv\\lib\\site-packages (from tensorflow-intel==2.15.0->tensorflow) (23.5.26)\n",
      "Requirement already satisfied: gast!=0.5.0,!=0.5.1,!=0.5.2,>=0.2.1 in c:\\users\\marti\\pycharmprojects\\cuaderno_a.ipynb\\venv\\lib\\site-packages (from tensorflow-intel==2.15.0->tensorflow) (0.5.4)\n",
      "Requirement already satisfied: google-pasta>=0.1.1 in c:\\users\\marti\\pycharmprojects\\cuaderno_a.ipynb\\venv\\lib\\site-packages (from tensorflow-intel==2.15.0->tensorflow) (0.2.0)\n",
      "Requirement already satisfied: h5py>=2.9.0 in c:\\users\\marti\\pycharmprojects\\cuaderno_a.ipynb\\venv\\lib\\site-packages (from tensorflow-intel==2.15.0->tensorflow) (3.10.0)\n",
      "Requirement already satisfied: libclang>=13.0.0 in c:\\users\\marti\\pycharmprojects\\cuaderno_a.ipynb\\venv\\lib\\site-packages (from tensorflow-intel==2.15.0->tensorflow) (16.0.6)\n",
      "Requirement already satisfied: ml-dtypes~=0.2.0 in c:\\users\\marti\\pycharmprojects\\cuaderno_a.ipynb\\venv\\lib\\site-packages (from tensorflow-intel==2.15.0->tensorflow) (0.2.0)\n",
      "Requirement already satisfied: opt-einsum>=2.3.2 in c:\\users\\marti\\pycharmprojects\\cuaderno_a.ipynb\\venv\\lib\\site-packages (from tensorflow-intel==2.15.0->tensorflow) (3.3.0)\n",
      "Requirement already satisfied: protobuf!=4.21.0,!=4.21.1,!=4.21.2,!=4.21.3,!=4.21.4,!=4.21.5,<5.0.0dev,>=3.20.3 in c:\\users\\marti\\pycharmprojects\\cuaderno_a.ipynb\\venv\\lib\\site-packages (from tensorflow-intel==2.15.0->tensorflow) (4.23.4)\n",
      "Requirement already satisfied: setuptools in c:\\users\\marti\\pycharmprojects\\cuaderno_a.ipynb\\venv\\lib\\site-packages (from tensorflow-intel==2.15.0->tensorflow) (65.5.1)\n",
      "Requirement already satisfied: six>=1.12.0 in c:\\users\\marti\\pycharmprojects\\cuaderno_a.ipynb\\venv\\lib\\site-packages (from tensorflow-intel==2.15.0->tensorflow) (1.16.0)\n",
      "Requirement already satisfied: termcolor>=1.1.0 in c:\\users\\marti\\pycharmprojects\\cuaderno_a.ipynb\\venv\\lib\\site-packages (from tensorflow-intel==2.15.0->tensorflow) (2.4.0)\n",
      "Requirement already satisfied: typing-extensions>=3.6.6 in c:\\users\\marti\\pycharmprojects\\cuaderno_a.ipynb\\venv\\lib\\site-packages (from tensorflow-intel==2.15.0->tensorflow) (4.9.0)\n",
      "Requirement already satisfied: wrapt<1.15,>=1.11.0 in c:\\users\\marti\\pycharmprojects\\cuaderno_a.ipynb\\venv\\lib\\site-packages (from tensorflow-intel==2.15.0->tensorflow) (1.14.1)\n",
      "Requirement already satisfied: tensorflow-io-gcs-filesystem>=0.23.1 in c:\\users\\marti\\pycharmprojects\\cuaderno_a.ipynb\\venv\\lib\\site-packages (from tensorflow-intel==2.15.0->tensorflow) (0.31.0)\n",
      "Requirement already satisfied: grpcio<2.0,>=1.24.3 in c:\\users\\marti\\pycharmprojects\\cuaderno_a.ipynb\\venv\\lib\\site-packages (from tensorflow-intel==2.15.0->tensorflow) (1.60.0)\n",
      "Requirement already satisfied: tensorboard<2.16,>=2.15 in c:\\users\\marti\\pycharmprojects\\cuaderno_a.ipynb\\venv\\lib\\site-packages (from tensorflow-intel==2.15.0->tensorflow) (2.15.1)\n",
      "Requirement already satisfied: tensorflow-estimator<2.16,>=2.15.0 in c:\\users\\marti\\pycharmprojects\\cuaderno_a.ipynb\\venv\\lib\\site-packages (from tensorflow-intel==2.15.0->tensorflow) (2.15.0)\n",
      "Requirement already satisfied: keras<2.16,>=2.15.0 in c:\\users\\marti\\pycharmprojects\\cuaderno_a.ipynb\\venv\\lib\\site-packages (from tensorflow-intel==2.15.0->tensorflow) (2.15.0)\n",
      "Requirement already satisfied: alembic>=1.5.0 in c:\\users\\marti\\pycharmprojects\\cuaderno_a.ipynb\\venv\\lib\\site-packages (from optuna) (1.13.1)\n",
      "Requirement already satisfied: colorlog in c:\\users\\marti\\pycharmprojects\\cuaderno_a.ipynb\\venv\\lib\\site-packages (from optuna) (6.8.0)\n",
      "Requirement already satisfied: sqlalchemy>=1.3.0 in c:\\users\\marti\\pycharmprojects\\cuaderno_a.ipynb\\venv\\lib\\site-packages (from optuna) (2.0.25)\n",
      "Requirement already satisfied: tqdm in c:\\users\\marti\\pycharmprojects\\cuaderno_a.ipynb\\venv\\lib\\site-packages (from optuna) (4.66.1)\n",
      "Requirement already satisfied: PyYAML in c:\\users\\marti\\pycharmprojects\\cuaderno_a.ipynb\\venv\\lib\\site-packages (from optuna) (6.0.1)\n",
      "Requirement already satisfied: Mako in c:\\users\\marti\\pycharmprojects\\cuaderno_a.ipynb\\venv\\lib\\site-packages (from alembic>=1.5.0->optuna) (1.3.0)\n",
      "Requirement already satisfied: greenlet!=0.4.17 in c:\\users\\marti\\pycharmprojects\\cuaderno_a.ipynb\\venv\\lib\\site-packages (from sqlalchemy>=1.3.0->optuna) (3.0.3)\n",
      "Requirement already satisfied: colorama in c:\\users\\marti\\pycharmprojects\\cuaderno_a.ipynb\\venv\\lib\\site-packages (from colorlog->optuna) (0.4.6)\n",
      "Requirement already satisfied: wheel<1.0,>=0.23.0 in c:\\users\\marti\\pycharmprojects\\cuaderno_a.ipynb\\venv\\lib\\site-packages (from astunparse>=1.6.0->tensorflow-intel==2.15.0->tensorflow) (0.38.4)\n",
      "Requirement already satisfied: google-auth<3,>=1.6.3 in c:\\users\\marti\\pycharmprojects\\cuaderno_a.ipynb\\venv\\lib\\site-packages (from tensorboard<2.16,>=2.15->tensorflow-intel==2.15.0->tensorflow) (2.26.2)\n",
      "Requirement already satisfied: google-auth-oauthlib<2,>=0.5 in c:\\users\\marti\\pycharmprojects\\cuaderno_a.ipynb\\venv\\lib\\site-packages (from tensorboard<2.16,>=2.15->tensorflow-intel==2.15.0->tensorflow) (1.2.0)\n",
      "Requirement already satisfied: markdown>=2.6.8 in c:\\users\\marti\\pycharmprojects\\cuaderno_a.ipynb\\venv\\lib\\site-packages (from tensorboard<2.16,>=2.15->tensorflow-intel==2.15.0->tensorflow) (3.5.2)\n",
      "Requirement already satisfied: requests<3,>=2.21.0 in c:\\users\\marti\\pycharmprojects\\cuaderno_a.ipynb\\venv\\lib\\site-packages (from tensorboard<2.16,>=2.15->tensorflow-intel==2.15.0->tensorflow) (2.31.0)\n",
      "Requirement already satisfied: tensorboard-data-server<0.8.0,>=0.7.0 in c:\\users\\marti\\pycharmprojects\\cuaderno_a.ipynb\\venv\\lib\\site-packages (from tensorboard<2.16,>=2.15->tensorflow-intel==2.15.0->tensorflow) (0.7.2)\n",
      "Requirement already satisfied: werkzeug>=1.0.1 in c:\\users\\marti\\pycharmprojects\\cuaderno_a.ipynb\\venv\\lib\\site-packages (from tensorboard<2.16,>=2.15->tensorflow-intel==2.15.0->tensorflow) (3.0.1)\n",
      "Requirement already satisfied: MarkupSafe>=0.9.2 in c:\\users\\marti\\pycharmprojects\\cuaderno_a.ipynb\\venv\\lib\\site-packages (from Mako->alembic>=1.5.0->optuna) (2.1.3)\n",
      "Requirement already satisfied: cachetools<6.0,>=2.0.0 in c:\\users\\marti\\pycharmprojects\\cuaderno_a.ipynb\\venv\\lib\\site-packages (from google-auth<3,>=1.6.3->tensorboard<2.16,>=2.15->tensorflow-intel==2.15.0->tensorflow) (5.3.2)\n",
      "Requirement already satisfied: pyasn1-modules>=0.2.1 in c:\\users\\marti\\pycharmprojects\\cuaderno_a.ipynb\\venv\\lib\\site-packages (from google-auth<3,>=1.6.3->tensorboard<2.16,>=2.15->tensorflow-intel==2.15.0->tensorflow) (0.3.0)\n",
      "Requirement already satisfied: rsa<5,>=3.1.4 in c:\\users\\marti\\pycharmprojects\\cuaderno_a.ipynb\\venv\\lib\\site-packages (from google-auth<3,>=1.6.3->tensorboard<2.16,>=2.15->tensorflow-intel==2.15.0->tensorflow) (4.9)\n",
      "Requirement already satisfied: requests-oauthlib>=0.7.0 in c:\\users\\marti\\pycharmprojects\\cuaderno_a.ipynb\\venv\\lib\\site-packages (from google-auth-oauthlib<2,>=0.5->tensorboard<2.16,>=2.15->tensorflow-intel==2.15.0->tensorflow) (1.3.1)\n",
      "Requirement already satisfied: charset-normalizer<4,>=2 in c:\\users\\marti\\pycharmprojects\\cuaderno_a.ipynb\\venv\\lib\\site-packages (from requests<3,>=2.21.0->tensorboard<2.16,>=2.15->tensorflow-intel==2.15.0->tensorflow) (3.3.2)\n",
      "Requirement already satisfied: idna<4,>=2.5 in c:\\users\\marti\\pycharmprojects\\cuaderno_a.ipynb\\venv\\lib\\site-packages (from requests<3,>=2.21.0->tensorboard<2.16,>=2.15->tensorflow-intel==2.15.0->tensorflow) (3.6)\n",
      "Requirement already satisfied: urllib3<3,>=1.21.1 in c:\\users\\marti\\pycharmprojects\\cuaderno_a.ipynb\\venv\\lib\\site-packages (from requests<3,>=2.21.0->tensorboard<2.16,>=2.15->tensorflow-intel==2.15.0->tensorflow) (2.1.0)\n",
      "Requirement already satisfied: certifi>=2017.4.17 in c:\\users\\marti\\pycharmprojects\\cuaderno_a.ipynb\\venv\\lib\\site-packages (from requests<3,>=2.21.0->tensorboard<2.16,>=2.15->tensorflow-intel==2.15.0->tensorflow) (2023.11.17)\n",
      "Requirement already satisfied: pyasn1<0.6.0,>=0.4.6 in c:\\users\\marti\\pycharmprojects\\cuaderno_a.ipynb\\venv\\lib\\site-packages (from pyasn1-modules>=0.2.1->google-auth<3,>=1.6.3->tensorboard<2.16,>=2.15->tensorflow-intel==2.15.0->tensorflow) (0.5.1)\n",
      "Requirement already satisfied: oauthlib>=3.0.0 in c:\\users\\marti\\pycharmprojects\\cuaderno_a.ipynb\\venv\\lib\\site-packages (from requests-oauthlib>=0.7.0->google-auth-oauthlib<2,>=0.5->tensorboard<2.16,>=2.15->tensorflow-intel==2.15.0->tensorflow) (3.2.2)\n"
     ]
    },
    {
     "name": "stderr",
     "output_type": "stream",
     "text": [
      "\n",
      "[notice] A new release of pip available: 22.3.1 -> 23.3.2\n",
      "[notice] To update, run: python.exe -m pip install --upgrade pip\n"
     ]
    }
   ],
   "source": [
    "!pip install pandas numpy matplotlib seaborn scikit-learn tensorflow optuna\n"
   ]
  },
  {
   "cell_type": "code",
   "execution_count": 26,
   "id": "97a5afea-d158-414a-ab97-e3814c3f5b2e",
   "metadata": {},
   "outputs": [],
   "source": [
    "import pandas as pd\n",
    "import numpy as np\n",
    "from sklearn.model_selection import train_test_split\n",
    "from sklearn.preprocessing import StandardScaler\n",
    "from sklearn.impute import SimpleImputer\n",
    "from sklearn.metrics import mean_squared_error, r2_score\n",
    "from sklearn.ensemble import RandomForestRegressor\n",
    "from sklearn.linear_model import LinearRegression\n",
    "import tensorflow as tf\n",
    "from tensorflow.keras.models import Sequential\n",
    "from tensorflow.keras.layers import Dense\n",
    "import optuna\n",
    "import joblib"
   ]
  },
  {
   "cell_type": "code",
   "execution_count": 31,
   "id": "ae582a56-a187-4e37-884e-440ade64e3fb",
   "metadata": {},
   "outputs": [],
   "source": [
    "\n",
    "# Cargar los datos preprocesados\n",
    "X_train_scaled_imputed = np.load('X_train.npy')\n",
    "X_test_scaled_imputed = np.load('X_test.npy')\n",
    "y_train = np.load('y_train.npy')\n",
    "\n",
    "# Cargar test_data y sus índices\n",
    "test_data = pd.DataFrame(np.load('test_data.npy'), columns=['longitude', 'latitude', 'housing_median_age', 'total_rooms', 'total_bedrooms', 'population', 'households', 'median_income', 'median_house_value', 'ocean_proximity'])\n",
    "test_data_index = np.load('test_data_index.npy')\n",
    "\n",
    "# Obtener el índice real de test_data\n",
    "test_data.index = test_data_index\n",
    "\n",
    "# Cargar el objeto scaler\n",
    "scaler = StandardScaler()\n",
    "X_train_scaled_imputed = scaler.fit_transform(X_train_scaled_imputed)\n",
    "X_test_scaled_imputed = scaler.transform(X_test_scaled_imputed)"
   ]
  },
  {
   "cell_type": "code",
   "execution_count": 32,
   "id": "a323d18c-e647-4541-ace6-fe1b8df4c708",
   "metadata": {},
   "outputs": [
    {
     "name": "stdout",
     "output_type": "stream",
     "text": [
      "Epoch 1/50\n",
      "413/413 [==============================] - 1s 1ms/step - loss: 56150765568.0000 - val_loss: 56865390592.0000\n",
      "Epoch 2/50\n",
      "413/413 [==============================] - 0s 925us/step - loss: 56135921664.0000 - val_loss: 56842342400.0000\n",
      "Epoch 3/50\n",
      "413/413 [==============================] - 0s 980us/step - loss: 56106373120.0000 - val_loss: 56805396480.0000\n",
      "Epoch 4/50\n",
      "413/413 [==============================] - 0s 960us/step - loss: 56063217664.0000 - val_loss: 56754757632.0000\n",
      "Epoch 5/50\n",
      "413/413 [==============================] - 0s 930us/step - loss: 56007954432.0000 - val_loss: 56693112832.0000\n",
      "Epoch 6/50\n",
      "413/413 [==============================] - 0s 923us/step - loss: 55942520832.0000 - val_loss: 56621686784.0000\n",
      "Epoch 7/50\n",
      "413/413 [==============================] - 0s 958us/step - loss: 55867674624.0000 - val_loss: 56541065216.0000\n",
      "Epoch 8/50\n",
      "413/413 [==============================] - 0s 1ms/step - loss: 55784124416.0000 - val_loss: 56451645440.0000\n",
      "Epoch 9/50\n",
      "413/413 [==============================] - 1s 1ms/step - loss: 55692238848.0000 - val_loss: 56354164736.0000\n",
      "Epoch 10/50\n",
      "413/413 [==============================] - 0s 958us/step - loss: 55592624128.0000 - val_loss: 56249184256.0000\n",
      "Epoch 11/50\n",
      "413/413 [==============================] - 0s 937us/step - loss: 55485423616.0000 - val_loss: 56136245248.0000\n",
      "Epoch 12/50\n",
      "413/413 [==============================] - 0s 1ms/step - loss: 55370817536.0000 - val_loss: 56016154624.0000\n",
      "Epoch 13/50\n",
      "413/413 [==============================] - 0s 950us/step - loss: 55249297408.0000 - val_loss: 55889018880.0000\n",
      "Epoch 14/50\n",
      "413/413 [==============================] - 0s 927us/step - loss: 55121068032.0000 - val_loss: 55755259904.0000\n",
      "Epoch 15/50\n",
      "413/413 [==============================] - 0s 963us/step - loss: 54986047488.0000 - val_loss: 55614390272.0000\n",
      "Epoch 16/50\n",
      "413/413 [==============================] - 0s 953us/step - loss: 54844063744.0000 - val_loss: 55466635264.0000\n",
      "Epoch 17/50\n",
      "413/413 [==============================] - 0s 947us/step - loss: 54695632896.0000 - val_loss: 55312658432.0000\n",
      "Epoch 18/50\n",
      "413/413 [==============================] - 0s 943us/step - loss: 54540836864.0000 - val_loss: 55151833088.0000\n",
      "Epoch 19/50\n",
      "413/413 [==============================] - 0s 946us/step - loss: 54379716608.0000 - val_loss: 54984695808.0000\n",
      "Epoch 20/50\n",
      "413/413 [==============================] - 0s 1ms/step - loss: 54211928064.0000 - val_loss: 54810894336.0000\n",
      "Epoch 21/50\n",
      "413/413 [==============================] - 0s 1ms/step - loss: 54037762048.0000 - val_loss: 54630776832.0000\n",
      "Epoch 22/50\n",
      "413/413 [==============================] - 0s 974us/step - loss: 53857538048.0000 - val_loss: 54444761088.0000\n",
      "Epoch 23/50\n",
      "413/413 [==============================] - 0s 976us/step - loss: 53671264256.0000 - val_loss: 54252126208.0000\n",
      "Epoch 24/50\n",
      "413/413 [==============================] - 0s 1ms/step - loss: 53479124992.0000 - val_loss: 54053650432.0000\n",
      "Epoch 25/50\n",
      "413/413 [==============================] - 0s 958us/step - loss: 53281075200.0000 - val_loss: 53849444352.0000\n",
      "Epoch 26/50\n",
      "413/413 [==============================] - 0s 954us/step - loss: 53077123072.0000 - val_loss: 53639426048.0000\n",
      "Epoch 27/50\n",
      "413/413 [==============================] - 0s 947us/step - loss: 52867260416.0000 - val_loss: 53423230976.0000\n",
      "Epoch 28/50\n",
      "413/413 [==============================] - 0s 964us/step - loss: 52651794432.0000 - val_loss: 53201084416.0000\n",
      "Epoch 29/50\n",
      "413/413 [==============================] - 0s 1ms/step - loss: 52430516224.0000 - val_loss: 52973293568.0000\n",
      "Epoch 30/50\n",
      "413/413 [==============================] - 0s 961us/step - loss: 52203511808.0000 - val_loss: 52740169728.0000\n",
      "Epoch 31/50\n",
      "413/413 [==============================] - 0s 989us/step - loss: 51971076096.0000 - val_loss: 52501577728.0000\n",
      "Epoch 32/50\n",
      "413/413 [==============================] - 0s 971us/step - loss: 51733090304.0000 - val_loss: 52256993280.0000\n",
      "Epoch 33/50\n",
      "413/413 [==============================] - 0s 989us/step - loss: 51489611776.0000 - val_loss: 52007219200.0000\n",
      "Epoch 34/50\n",
      "413/413 [==============================] - 0s 973us/step - loss: 51240923136.0000 - val_loss: 51751849984.0000\n",
      "Epoch 35/50\n",
      "413/413 [==============================] - 0s 974us/step - loss: 50986864640.0000 - val_loss: 51491225600.0000\n",
      "Epoch 36/50\n",
      "413/413 [==============================] - 0s 956us/step - loss: 50727727104.0000 - val_loss: 51225911296.0000\n",
      "Epoch 37/50\n",
      "413/413 [==============================] - 1s 1ms/step - loss: 50463379456.0000 - val_loss: 50954711040.0000\n",
      "Epoch 38/50\n",
      "413/413 [==============================] - 1s 1ms/step - loss: 50194014208.0000 - val_loss: 50678841344.0000\n",
      "Epoch 39/50\n",
      "413/413 [==============================] - 0s 911us/step - loss: 49919680512.0000 - val_loss: 50397593600.0000\n",
      "Epoch 40/50\n",
      "413/413 [==============================] - 0s 952us/step - loss: 49640599552.0000 - val_loss: 50112258048.0000\n",
      "Epoch 41/50\n",
      "413/413 [==============================] - 0s 965us/step - loss: 49357144064.0000 - val_loss: 49822220288.0000\n",
      "Epoch 42/50\n",
      "413/413 [==============================] - 0s 937us/step - loss: 49068814336.0000 - val_loss: 49527246848.0000\n",
      "Epoch 43/50\n",
      "413/413 [==============================] - 0s 950us/step - loss: 48775532544.0000 - val_loss: 49227214848.0000\n",
      "Epoch 44/50\n",
      "413/413 [==============================] - 0s 920us/step - loss: 48477978624.0000 - val_loss: 48923115520.0000\n",
      "Epoch 45/50\n",
      "413/413 [==============================] - 0s 958us/step - loss: 48176177152.0000 - val_loss: 48615268352.0000\n",
      "Epoch 46/50\n",
      "413/413 [==============================] - 0s 953us/step - loss: 47869669376.0000 - val_loss: 48301428736.0000\n",
      "Epoch 47/50\n",
      "413/413 [==============================] - 0s 945us/step - loss: 47559233536.0000 - val_loss: 47984930816.0000\n",
      "Epoch 48/50\n",
      "413/413 [==============================] - 0s 968us/step - loss: 47244783616.0000 - val_loss: 47664295936.0000\n",
      "Epoch 49/50\n",
      "413/413 [==============================] - 0s 943us/step - loss: 46926528512.0000 - val_loss: 47339630592.0000\n",
      "Epoch 50/50\n",
      "413/413 [==============================] - 0s 945us/step - loss: 46603804672.0000 - val_loss: 47009611776.0000\n"
     ]
    },
    {
     "data": {
      "text/plain": [
       "<keras.src.callbacks.History at 0x7cc6a290>"
      ]
     },
     "execution_count": 32,
     "metadata": {},
     "output_type": "execute_result"
    }
   ],
   "source": [
    "# Modelo de Deep Learning\n",
    "model_dl = Sequential()\n",
    "model_dl.add(Dense(30, activation='relu', input_shape=(X_train_scaled_imputed.shape[1],)))\n",
    "model_dl.add(Dense(1))\n",
    "model_dl.compile(optimizer='adam', loss='mean_squared_error')\n",
    "\n",
    "model_dl.fit(X_train_scaled_imputed, y_train, epochs=50, batch_size=32, validation_split=0.2)"
   ]
  },
  {
   "cell_type": "code",
   "execution_count": 33,
   "id": "60464141-19da-4fc1-9e6e-e65a0a88b3ce",
   "metadata": {},
   "outputs": [
    {
     "data": {
      "text/html": [
       "<style>#sk-container-id-5 {color: black;}#sk-container-id-5 pre{padding: 0;}#sk-container-id-5 div.sk-toggleable {background-color: white;}#sk-container-id-5 label.sk-toggleable__label {cursor: pointer;display: block;width: 100%;margin-bottom: 0;padding: 0.3em;box-sizing: border-box;text-align: center;}#sk-container-id-5 label.sk-toggleable__label-arrow:before {content: \"▸\";float: left;margin-right: 0.25em;color: #696969;}#sk-container-id-5 label.sk-toggleable__label-arrow:hover:before {color: black;}#sk-container-id-5 div.sk-estimator:hover label.sk-toggleable__label-arrow:before {color: black;}#sk-container-id-5 div.sk-toggleable__content {max-height: 0;max-width: 0;overflow: hidden;text-align: left;background-color: #f0f8ff;}#sk-container-id-5 div.sk-toggleable__content pre {margin: 0.2em;color: black;border-radius: 0.25em;background-color: #f0f8ff;}#sk-container-id-5 input.sk-toggleable__control:checked~div.sk-toggleable__content {max-height: 200px;max-width: 100%;overflow: auto;}#sk-container-id-5 input.sk-toggleable__control:checked~label.sk-toggleable__label-arrow:before {content: \"▾\";}#sk-container-id-5 div.sk-estimator input.sk-toggleable__control:checked~label.sk-toggleable__label {background-color: #d4ebff;}#sk-container-id-5 div.sk-label input.sk-toggleable__control:checked~label.sk-toggleable__label {background-color: #d4ebff;}#sk-container-id-5 input.sk-hidden--visually {border: 0;clip: rect(1px 1px 1px 1px);clip: rect(1px, 1px, 1px, 1px);height: 1px;margin: -1px;overflow: hidden;padding: 0;position: absolute;width: 1px;}#sk-container-id-5 div.sk-estimator {font-family: monospace;background-color: #f0f8ff;border: 1px dotted black;border-radius: 0.25em;box-sizing: border-box;margin-bottom: 0.5em;}#sk-container-id-5 div.sk-estimator:hover {background-color: #d4ebff;}#sk-container-id-5 div.sk-parallel-item::after {content: \"\";width: 100%;border-bottom: 1px solid gray;flex-grow: 1;}#sk-container-id-5 div.sk-label:hover label.sk-toggleable__label {background-color: #d4ebff;}#sk-container-id-5 div.sk-serial::before {content: \"\";position: absolute;border-left: 1px solid gray;box-sizing: border-box;top: 0;bottom: 0;left: 50%;z-index: 0;}#sk-container-id-5 div.sk-serial {display: flex;flex-direction: column;align-items: center;background-color: white;padding-right: 0.2em;padding-left: 0.2em;position: relative;}#sk-container-id-5 div.sk-item {position: relative;z-index: 1;}#sk-container-id-5 div.sk-parallel {display: flex;align-items: stretch;justify-content: center;background-color: white;position: relative;}#sk-container-id-5 div.sk-item::before, #sk-container-id-5 div.sk-parallel-item::before {content: \"\";position: absolute;border-left: 1px solid gray;box-sizing: border-box;top: 0;bottom: 0;left: 50%;z-index: -1;}#sk-container-id-5 div.sk-parallel-item {display: flex;flex-direction: column;z-index: 1;position: relative;background-color: white;}#sk-container-id-5 div.sk-parallel-item:first-child::after {align-self: flex-end;width: 50%;}#sk-container-id-5 div.sk-parallel-item:last-child::after {align-self: flex-start;width: 50%;}#sk-container-id-5 div.sk-parallel-item:only-child::after {width: 0;}#sk-container-id-5 div.sk-dashed-wrapped {border: 1px dashed gray;margin: 0 0.4em 0.5em 0.4em;box-sizing: border-box;padding-bottom: 0.4em;background-color: white;}#sk-container-id-5 div.sk-label label {font-family: monospace;font-weight: bold;display: inline-block;line-height: 1.2em;}#sk-container-id-5 div.sk-label-container {text-align: center;}#sk-container-id-5 div.sk-container {/* jupyter's `normalize.less` sets `[hidden] { display: none; }` but bootstrap.min.css set `[hidden] { display: none !important; }` so we also need the `!important` here to be able to override the default hidden behavior on the sphinx rendered scikit-learn.org. See: https://github.com/scikit-learn/scikit-learn/issues/21755 */display: inline-block !important;position: relative;}#sk-container-id-5 div.sk-text-repr-fallback {display: none;}</style><div id=\"sk-container-id-5\" class=\"sk-top-container\"><div class=\"sk-text-repr-fallback\"><pre>RandomForestRegressor(random_state=42)</pre><b>In a Jupyter environment, please rerun this cell to show the HTML representation or trust the notebook. <br />On GitHub, the HTML representation is unable to render, please try loading this page with nbviewer.org.</b></div><div class=\"sk-container\" hidden><div class=\"sk-item\"><div class=\"sk-estimator sk-toggleable\"><input class=\"sk-toggleable__control sk-hidden--visually\" id=\"sk-estimator-id-5\" type=\"checkbox\" checked><label for=\"sk-estimator-id-5\" class=\"sk-toggleable__label sk-toggleable__label-arrow\">RandomForestRegressor</label><div class=\"sk-toggleable__content\"><pre>RandomForestRegressor(random_state=42)</pre></div></div></div></div></div>"
      ],
      "text/plain": [
       "RandomForestRegressor(random_state=42)"
      ]
     },
     "execution_count": 33,
     "metadata": {},
     "output_type": "execute_result"
    }
   ],
   "source": [
    "# Modelo de Machine Learning\n",
    "model_ml = RandomForestRegressor(n_estimators=100, random_state=42)\n",
    "model_ml.fit(X_train_scaled_imputed, y_train)"
   ]
  },
  {
   "cell_type": "code",
   "execution_count": 34,
   "id": "9bad4baf-1f98-42e6-a2ca-3d4c047ec7cb",
   "metadata": {},
   "outputs": [
    {
     "name": "stdout",
     "output_type": "stream",
     "text": [
      "129/129 [==============================] - 1s 701us/step\n",
      "Deep Learning con Imputación - Mean Squared Error: 45762656040.59284, R^2 Score: -2.4922422541720435\n"
     ]
    }
   ],
   "source": [
    "# Evaluación del modelo de Deep Learning\n",
    "y_test = test_data[\"median_house_value\"].copy()\n",
    "X_test_scaled_imputed = scaler.transform(X_test_scaled_imputed)  # Corregir esta línea\n",
    "y_pred_dl_imputed = model_dl.predict(X_test_scaled_imputed)\n",
    "mse_dl_imputed = mean_squared_error(y_test, y_pred_dl_imputed)\n",
    "r2_dl_imputed = r2_score(y_test, y_pred_dl_imputed)\n",
    "print(f\"Deep Learning con Imputación - Mean Squared Error: {mse_dl_imputed}, R^2 Score: {r2_dl_imputed}\")\n"
   ]
  },
  {
   "cell_type": "code",
   "execution_count": 35,
   "id": "65d7c07a-e982-4457-8e46-1c84c4d71149",
   "metadata": {},
   "outputs": [
    {
     "name": "stdout",
     "output_type": "stream",
     "text": [
      "Machine Learning con Imputación - Mean Squared Error: 2474438338.6272635, R^2 Score: 0.8111705292229482\n"
     ]
    }
   ],
   "source": [
    "# Evaluación del modelo de Machine Learning\n",
    "y_pred_ml_imputed = model_ml.predict(X_test_scaled_imputed)\n",
    "mse_ml_imputed = mean_squared_error(y_test, y_pred_ml_imputed)\n",
    "r2_ml_imputed = r2_score(y_test, y_pred_ml_imputed)\n",
    "print(f\"Machine Learning con Imputación - Mean Squared Error: {mse_ml_imputed}, R^2 Score: {r2_ml_imputed}\")\n",
    "\n"
   ]
  },
  {
   "cell_type": "code",
   "execution_count": null,
   "id": "ec601089-11a1-407f-83fd-a5d1f689cfef",
   "metadata": {},
   "outputs": [
    {
     "name": "stderr",
     "output_type": "stream",
     "text": [
      "[I 2024-01-13 02:54:35,162] A new study created in memory with name: no-name-490ae96b-bdfa-4881-92fc-ed2061761f9b\n",
      "[I 2024-01-13 02:54:39,816] Trial 0 finished with value: 3595974529.9973273 and parameters: {'n_estimators': 48, 'max_depth': 8}. Best is trial 0 with value: 3595974529.9973273.\n",
      "[I 2024-01-13 02:55:03,064] Trial 1 finished with value: 2488194373.625022 and parameters: {'n_estimators': 89, 'max_depth': 23}. Best is trial 1 with value: 2488194373.625022.\n",
      "[I 2024-01-13 02:55:53,122] Trial 2 finished with value: 2478521373.329473 and parameters: {'n_estimators': 190, 'max_depth': 27}. Best is trial 2 with value: 2478521373.329473.\n",
      "[I 2024-01-13 02:56:29,860] Trial 3 finished with value: 2548863645.472299 and parameters: {'n_estimators': 195, 'max_depth': 14}. Best is trial 2 with value: 2478521373.329473.\n",
      "[I 2024-01-13 02:56:44,020] Trial 4 finished with value: 2503910022.5438714 and parameters: {'n_estimators': 56, 'max_depth': 21}. Best is trial 2 with value: 2478521373.329473.\n"
     ]
    }
   ],
   "source": [
    "# Ajuste de Hiperparámetros (utilizando Optuna)\n",
    "def objective(trial):\n",
    "    n_estimators = trial.suggest_int('n_estimators', 10, 200)\n",
    "    max_depth = trial.suggest_int('max_depth', 5, 30)\n",
    "    model = RandomForestRegressor(n_estimators=n_estimators, max_depth=max_depth, random_state=42)\n",
    "    model.fit(X_train_scaled_imputed, y_train)\n",
    "    y_pred = model.predict(X_test_scaled_imputed)\n",
    "    return mean_squared_error(y_test, y_pred)\n",
    "\n",
    "study = optuna.create_study(direction='minimize')\n",
    "study.optimize(objective, n_trials=10)\n",
    "\n",
    "best_params = study.best_params\n",
    "best_model = RandomForestRegressor(n_estimators=best_params['n_estimators'],\n",
    "                                    max_depth=best_params['max_depth'], random_state=42)\n",
    "best_model.fit(X_train_scaled_imputed, y_train)\n",
    "\n",
    "y_pred_best = best_model.predict(X_test_scaled_imputed)\n",
    "mse_best = mean_squared_error(y_test, y_pred_best)\n",
    "r2_best = r2_score(y_test, y_pred_best)\n",
    "print(f\"Best Model - Mean Squared Error: {mse_best}, R^2 Score: {r2_best}\")\n"
   ]
  },
  {
   "cell_type": "code",
   "execution_count": null,
   "id": "c5d115a7-fd6f-4948-9460-18249eeead9f",
   "metadata": {},
   "outputs": [],
   "source": [
    "# Ruta donde se guardarán los modelos\n",
    "ruta_modelos = 'modelos/'\n",
    "\n",
    "# Guardar el modelo de Deep Learning\n",
    "model_dl.save(f'{ruta_modelos}modelo_dl')\n",
    "\n",
    "# Guardar el modelo de Machine Learning\n",
    "ruta_modelo_ml = f'{ruta_modelos}modelo_ml.joblib'\n",
    "joblib.dump(model_ml, ruta_modelo_ml)\n",
    "\n",
    "# Guardar el mejor modelo\n",
    "ruta_mejor_modelo = f'{ruta_modelos}mejor_modelo.joblib'\n",
    "joblib.dump(best_model, ruta_mejor_modelo)\n",
    "\n",
    "# Puedes imprimir un mensaje indicando la ubicación de los modelos guardados\n",
    "print(f\"Modelos guardados en: {ruta_modelos}\")"
   ]
  },
  {
   "cell_type": "code",
   "execution_count": null,
   "id": "94c84b78-fe8c-409b-beaa-42a440ed22b0",
   "metadata": {},
   "outputs": [],
   "source": []
  }
 ],
 "metadata": {
  "kernelspec": {
   "display_name": "Python 3 (ipykernel)",
   "language": "python",
   "name": "python3"
  },
  "language_info": {
   "codemirror_mode": {
    "name": "ipython",
    "version": 3
   },
   "file_extension": ".py",
   "mimetype": "text/x-python",
   "name": "python",
   "nbconvert_exporter": "python",
   "pygments_lexer": "ipython3",
   "version": "3.11.4"
  }
 },
 "nbformat": 4,
 "nbformat_minor": 5
}
