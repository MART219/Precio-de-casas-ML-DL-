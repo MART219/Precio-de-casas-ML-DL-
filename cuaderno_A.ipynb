{
 "cells": [
  {
   "cell_type": "code",
   "execution_count": 5,
   "id": "b886bd05-3e1b-4d6e-bdd1-766d65e1b84e",
   "metadata": {},
   "outputs": [
    {
     "name": "stdout",
     "output_type": "stream",
     "text": [
      "Requirement already satisfied: pandas in c:\\users\\marti\\pycharmprojects\\cuaderno_a.ipynb\\venv\\lib\\site-packages (2.1.4)\n",
      "Requirement already satisfied: numpy in c:\\users\\marti\\pycharmprojects\\cuaderno_a.ipynb\\venv\\lib\\site-packages (1.26.3)\n",
      "Requirement already satisfied: matplotlib in c:\\users\\marti\\pycharmprojects\\cuaderno_a.ipynb\\venv\\lib\\site-packages (3.8.2)\n",
      "Requirement already satisfied: seaborn in c:\\users\\marti\\pycharmprojects\\cuaderno_a.ipynb\\venv\\lib\\site-packages (0.13.1)\n",
      "Requirement already satisfied: scikit-learn in c:\\users\\marti\\pycharmprojects\\cuaderno_a.ipynb\\venv\\lib\\site-packages (1.3.2)\n",
      "Requirement already satisfied: tensorflow in c:\\users\\marti\\pycharmprojects\\cuaderno_a.ipynb\\venv\\lib\\site-packages (2.15.0)\n",
      "Requirement already satisfied: optuna in c:\\users\\marti\\pycharmprojects\\cuaderno_a.ipynb\\venv\\lib\\site-packages (3.5.0)\n",
      "Requirement already satisfied: python-dateutil>=2.8.2 in c:\\users\\marti\\pycharmprojects\\cuaderno_a.ipynb\\venv\\lib\\site-packages (from pandas) (2.8.2)\n",
      "Requirement already satisfied: pytz>=2020.1 in c:\\users\\marti\\pycharmprojects\\cuaderno_a.ipynb\\venv\\lib\\site-packages (from pandas) (2023.3.post1)\n",
      "Requirement already satisfied: tzdata>=2022.1 in c:\\users\\marti\\pycharmprojects\\cuaderno_a.ipynb\\venv\\lib\\site-packages (from pandas) (2023.4)\n",
      "Requirement already satisfied: contourpy>=1.0.1 in c:\\users\\marti\\pycharmprojects\\cuaderno_a.ipynb\\venv\\lib\\site-packages (from matplotlib) (1.2.0)\n",
      "Requirement already satisfied: cycler>=0.10 in c:\\users\\marti\\pycharmprojects\\cuaderno_a.ipynb\\venv\\lib\\site-packages (from matplotlib) (0.12.1)\n",
      "Requirement already satisfied: fonttools>=4.22.0 in c:\\users\\marti\\pycharmprojects\\cuaderno_a.ipynb\\venv\\lib\\site-packages (from matplotlib) (4.47.2)\n",
      "Requirement already satisfied: kiwisolver>=1.3.1 in c:\\users\\marti\\pycharmprojects\\cuaderno_a.ipynb\\venv\\lib\\site-packages (from matplotlib) (1.4.5)\n",
      "Requirement already satisfied: packaging>=20.0 in c:\\users\\marti\\pycharmprojects\\cuaderno_a.ipynb\\venv\\lib\\site-packages (from matplotlib) (23.2)\n",
      "Requirement already satisfied: pillow>=8 in c:\\users\\marti\\pycharmprojects\\cuaderno_a.ipynb\\venv\\lib\\site-packages (from matplotlib) (10.2.0)\n",
      "Requirement already satisfied: pyparsing>=2.3.1 in c:\\users\\marti\\pycharmprojects\\cuaderno_a.ipynb\\venv\\lib\\site-packages (from matplotlib) (3.1.1)\n",
      "Requirement already satisfied: scipy>=1.5.0 in c:\\users\\marti\\pycharmprojects\\cuaderno_a.ipynb\\venv\\lib\\site-packages (from scikit-learn) (1.11.4)\n",
      "Requirement already satisfied: joblib>=1.1.1 in c:\\users\\marti\\pycharmprojects\\cuaderno_a.ipynb\\venv\\lib\\site-packages (from scikit-learn) (1.3.2)\n",
      "Requirement already satisfied: threadpoolctl>=2.0.0 in c:\\users\\marti\\pycharmprojects\\cuaderno_a.ipynb\\venv\\lib\\site-packages (from scikit-learn) (3.2.0)\n",
      "Requirement already satisfied: tensorflow-intel==2.15.0 in c:\\users\\marti\\pycharmprojects\\cuaderno_a.ipynb\\venv\\lib\\site-packages (from tensorflow) (2.15.0)\n",
      "Requirement already satisfied: absl-py>=1.0.0 in c:\\users\\marti\\pycharmprojects\\cuaderno_a.ipynb\\venv\\lib\\site-packages (from tensorflow-intel==2.15.0->tensorflow) (2.0.0)\n",
      "Requirement already satisfied: astunparse>=1.6.0 in c:\\users\\marti\\pycharmprojects\\cuaderno_a.ipynb\\venv\\lib\\site-packages (from tensorflow-intel==2.15.0->tensorflow) (1.6.3)\n",
      "Requirement already satisfied: flatbuffers>=23.5.26 in c:\\users\\marti\\pycharmprojects\\cuaderno_a.ipynb\\venv\\lib\\site-packages (from tensorflow-intel==2.15.0->tensorflow) (23.5.26)\n",
      "Requirement already satisfied: gast!=0.5.0,!=0.5.1,!=0.5.2,>=0.2.1 in c:\\users\\marti\\pycharmprojects\\cuaderno_a.ipynb\\venv\\lib\\site-packages (from tensorflow-intel==2.15.0->tensorflow) (0.5.4)\n",
      "Requirement already satisfied: google-pasta>=0.1.1 in c:\\users\\marti\\pycharmprojects\\cuaderno_a.ipynb\\venv\\lib\\site-packages (from tensorflow-intel==2.15.0->tensorflow) (0.2.0)\n",
      "Requirement already satisfied: h5py>=2.9.0 in c:\\users\\marti\\pycharmprojects\\cuaderno_a.ipynb\\venv\\lib\\site-packages (from tensorflow-intel==2.15.0->tensorflow) (3.10.0)\n",
      "Requirement already satisfied: libclang>=13.0.0 in c:\\users\\marti\\pycharmprojects\\cuaderno_a.ipynb\\venv\\lib\\site-packages (from tensorflow-intel==2.15.0->tensorflow) (16.0.6)\n",
      "Requirement already satisfied: ml-dtypes~=0.2.0 in c:\\users\\marti\\pycharmprojects\\cuaderno_a.ipynb\\venv\\lib\\site-packages (from tensorflow-intel==2.15.0->tensorflow) (0.2.0)\n",
      "Requirement already satisfied: opt-einsum>=2.3.2 in c:\\users\\marti\\pycharmprojects\\cuaderno_a.ipynb\\venv\\lib\\site-packages (from tensorflow-intel==2.15.0->tensorflow) (3.3.0)\n",
      "Requirement already satisfied: protobuf!=4.21.0,!=4.21.1,!=4.21.2,!=4.21.3,!=4.21.4,!=4.21.5,<5.0.0dev,>=3.20.3 in c:\\users\\marti\\pycharmprojects\\cuaderno_a.ipynb\\venv\\lib\\site-packages (from tensorflow-intel==2.15.0->tensorflow) (4.23.4)\n",
      "Requirement already satisfied: setuptools in c:\\users\\marti\\pycharmprojects\\cuaderno_a.ipynb\\venv\\lib\\site-packages (from tensorflow-intel==2.15.0->tensorflow) (65.5.1)\n",
      "Requirement already satisfied: six>=1.12.0 in c:\\users\\marti\\pycharmprojects\\cuaderno_a.ipynb\\venv\\lib\\site-packages (from tensorflow-intel==2.15.0->tensorflow) (1.16.0)\n",
      "Requirement already satisfied: termcolor>=1.1.0 in c:\\users\\marti\\pycharmprojects\\cuaderno_a.ipynb\\venv\\lib\\site-packages (from tensorflow-intel==2.15.0->tensorflow) (2.4.0)\n",
      "Requirement already satisfied: typing-extensions>=3.6.6 in c:\\users\\marti\\pycharmprojects\\cuaderno_a.ipynb\\venv\\lib\\site-packages (from tensorflow-intel==2.15.0->tensorflow) (4.9.0)\n",
      "Requirement already satisfied: wrapt<1.15,>=1.11.0 in c:\\users\\marti\\pycharmprojects\\cuaderno_a.ipynb\\venv\\lib\\site-packages (from tensorflow-intel==2.15.0->tensorflow) (1.14.1)\n",
      "Requirement already satisfied: tensorflow-io-gcs-filesystem>=0.23.1 in c:\\users\\marti\\pycharmprojects\\cuaderno_a.ipynb\\venv\\lib\\site-packages (from tensorflow-intel==2.15.0->tensorflow) (0.31.0)\n",
      "Requirement already satisfied: grpcio<2.0,>=1.24.3 in c:\\users\\marti\\pycharmprojects\\cuaderno_a.ipynb\\venv\\lib\\site-packages (from tensorflow-intel==2.15.0->tensorflow) (1.60.0)\n",
      "Requirement already satisfied: tensorboard<2.16,>=2.15 in c:\\users\\marti\\pycharmprojects\\cuaderno_a.ipynb\\venv\\lib\\site-packages (from tensorflow-intel==2.15.0->tensorflow) (2.15.1)\n",
      "Requirement already satisfied: tensorflow-estimator<2.16,>=2.15.0 in c:\\users\\marti\\pycharmprojects\\cuaderno_a.ipynb\\venv\\lib\\site-packages (from tensorflow-intel==2.15.0->tensorflow) (2.15.0)\n",
      "Requirement already satisfied: keras<2.16,>=2.15.0 in c:\\users\\marti\\pycharmprojects\\cuaderno_a.ipynb\\venv\\lib\\site-packages (from tensorflow-intel==2.15.0->tensorflow) (2.15.0)\n",
      "Requirement already satisfied: alembic>=1.5.0 in c:\\users\\marti\\pycharmprojects\\cuaderno_a.ipynb\\venv\\lib\\site-packages (from optuna) (1.13.1)\n",
      "Requirement already satisfied: colorlog in c:\\users\\marti\\pycharmprojects\\cuaderno_a.ipynb\\venv\\lib\\site-packages (from optuna) (6.8.0)\n",
      "Requirement already satisfied: sqlalchemy>=1.3.0 in c:\\users\\marti\\pycharmprojects\\cuaderno_a.ipynb\\venv\\lib\\site-packages (from optuna) (2.0.25)\n",
      "Requirement already satisfied: tqdm in c:\\users\\marti\\pycharmprojects\\cuaderno_a.ipynb\\venv\\lib\\site-packages (from optuna) (4.66.1)\n",
      "Requirement already satisfied: PyYAML in c:\\users\\marti\\pycharmprojects\\cuaderno_a.ipynb\\venv\\lib\\site-packages (from optuna) (6.0.1)\n",
      "Requirement already satisfied: Mako in c:\\users\\marti\\pycharmprojects\\cuaderno_a.ipynb\\venv\\lib\\site-packages (from alembic>=1.5.0->optuna) (1.3.0)\n",
      "Requirement already satisfied: greenlet!=0.4.17 in c:\\users\\marti\\pycharmprojects\\cuaderno_a.ipynb\\venv\\lib\\site-packages (from sqlalchemy>=1.3.0->optuna) (3.0.3)\n",
      "Requirement already satisfied: colorama in c:\\users\\marti\\pycharmprojects\\cuaderno_a.ipynb\\venv\\lib\\site-packages (from colorlog->optuna) (0.4.6)\n",
      "Requirement already satisfied: wheel<1.0,>=0.23.0 in c:\\users\\marti\\pycharmprojects\\cuaderno_a.ipynb\\venv\\lib\\site-packages (from astunparse>=1.6.0->tensorflow-intel==2.15.0->tensorflow) (0.38.4)\n",
      "Requirement already satisfied: google-auth<3,>=1.6.3 in c:\\users\\marti\\pycharmprojects\\cuaderno_a.ipynb\\venv\\lib\\site-packages (from tensorboard<2.16,>=2.15->tensorflow-intel==2.15.0->tensorflow) (2.26.2)\n",
      "Requirement already satisfied: google-auth-oauthlib<2,>=0.5 in c:\\users\\marti\\pycharmprojects\\cuaderno_a.ipynb\\venv\\lib\\site-packages (from tensorboard<2.16,>=2.15->tensorflow-intel==2.15.0->tensorflow) (1.2.0)\n",
      "Requirement already satisfied: markdown>=2.6.8 in c:\\users\\marti\\pycharmprojects\\cuaderno_a.ipynb\\venv\\lib\\site-packages (from tensorboard<2.16,>=2.15->tensorflow-intel==2.15.0->tensorflow) (3.5.2)\n",
      "Requirement already satisfied: requests<3,>=2.21.0 in c:\\users\\marti\\pycharmprojects\\cuaderno_a.ipynb\\venv\\lib\\site-packages (from tensorboard<2.16,>=2.15->tensorflow-intel==2.15.0->tensorflow) (2.31.0)\n",
      "Requirement already satisfied: tensorboard-data-server<0.8.0,>=0.7.0 in c:\\users\\marti\\pycharmprojects\\cuaderno_a.ipynb\\venv\\lib\\site-packages (from tensorboard<2.16,>=2.15->tensorflow-intel==2.15.0->tensorflow) (0.7.2)\n",
      "Requirement already satisfied: werkzeug>=1.0.1 in c:\\users\\marti\\pycharmprojects\\cuaderno_a.ipynb\\venv\\lib\\site-packages (from tensorboard<2.16,>=2.15->tensorflow-intel==2.15.0->tensorflow) (3.0.1)\n",
      "Requirement already satisfied: MarkupSafe>=0.9.2 in c:\\users\\marti\\pycharmprojects\\cuaderno_a.ipynb\\venv\\lib\\site-packages (from Mako->alembic>=1.5.0->optuna) (2.1.3)\n",
      "Requirement already satisfied: cachetools<6.0,>=2.0.0 in c:\\users\\marti\\pycharmprojects\\cuaderno_a.ipynb\\venv\\lib\\site-packages (from google-auth<3,>=1.6.3->tensorboard<2.16,>=2.15->tensorflow-intel==2.15.0->tensorflow) (5.3.2)\n",
      "Requirement already satisfied: pyasn1-modules>=0.2.1 in c:\\users\\marti\\pycharmprojects\\cuaderno_a.ipynb\\venv\\lib\\site-packages (from google-auth<3,>=1.6.3->tensorboard<2.16,>=2.15->tensorflow-intel==2.15.0->tensorflow) (0.3.0)\n",
      "Requirement already satisfied: rsa<5,>=3.1.4 in c:\\users\\marti\\pycharmprojects\\cuaderno_a.ipynb\\venv\\lib\\site-packages (from google-auth<3,>=1.6.3->tensorboard<2.16,>=2.15->tensorflow-intel==2.15.0->tensorflow) (4.9)\n",
      "Requirement already satisfied: requests-oauthlib>=0.7.0 in c:\\users\\marti\\pycharmprojects\\cuaderno_a.ipynb\\venv\\lib\\site-packages (from google-auth-oauthlib<2,>=0.5->tensorboard<2.16,>=2.15->tensorflow-intel==2.15.0->tensorflow) (1.3.1)\n",
      "Requirement already satisfied: charset-normalizer<4,>=2 in c:\\users\\marti\\pycharmprojects\\cuaderno_a.ipynb\\venv\\lib\\site-packages (from requests<3,>=2.21.0->tensorboard<2.16,>=2.15->tensorflow-intel==2.15.0->tensorflow) (3.3.2)\n",
      "Requirement already satisfied: idna<4,>=2.5 in c:\\users\\marti\\pycharmprojects\\cuaderno_a.ipynb\\venv\\lib\\site-packages (from requests<3,>=2.21.0->tensorboard<2.16,>=2.15->tensorflow-intel==2.15.0->tensorflow) (3.6)\n",
      "Requirement already satisfied: urllib3<3,>=1.21.1 in c:\\users\\marti\\pycharmprojects\\cuaderno_a.ipynb\\venv\\lib\\site-packages (from requests<3,>=2.21.0->tensorboard<2.16,>=2.15->tensorflow-intel==2.15.0->tensorflow) (2.1.0)\n",
      "Requirement already satisfied: certifi>=2017.4.17 in c:\\users\\marti\\pycharmprojects\\cuaderno_a.ipynb\\venv\\lib\\site-packages (from requests<3,>=2.21.0->tensorboard<2.16,>=2.15->tensorflow-intel==2.15.0->tensorflow) (2023.11.17)\n",
      "Requirement already satisfied: pyasn1<0.6.0,>=0.4.6 in c:\\users\\marti\\pycharmprojects\\cuaderno_a.ipynb\\venv\\lib\\site-packages (from pyasn1-modules>=0.2.1->google-auth<3,>=1.6.3->tensorboard<2.16,>=2.15->tensorflow-intel==2.15.0->tensorflow) (0.5.1)\n",
      "Requirement already satisfied: oauthlib>=3.0.0 in c:\\users\\marti\\pycharmprojects\\cuaderno_a.ipynb\\venv\\lib\\site-packages (from requests-oauthlib>=0.7.0->google-auth-oauthlib<2,>=0.5->tensorboard<2.16,>=2.15->tensorflow-intel==2.15.0->tensorflow) (3.2.2)\n"
     ]
    },
    {
     "name": "stderr",
     "output_type": "stream",
     "text": [
      "\n",
      "[notice] A new release of pip available: 22.3.1 -> 23.3.2\n",
      "[notice] To update, run: python.exe -m pip install --upgrade pip\n"
     ]
    }
   ],
   "source": [
    "!pip install pandas numpy matplotlib seaborn scikit-learn tensorflow optuna\n"
   ]
  },
  {
   "cell_type": "code",
   "execution_count": null,
   "id": "88c5f39c-c273-4252-85c8-86126daf7542",
   "metadata": {},
   "outputs": [],
   "source": [
    "import pandas as pd\n",
    "import numpy as np\n",
    "import matplotlib.pyplot as plt\n",
    "import seaborn as sns\n",
    "from sklearn.model_selection import train_test_split\n",
    "from sklearn.preprocessing import StandardScaler\n",
    "from sklearn.impute import SimpleImputer\n",
    "from sklearn.metrics import mean_squared_error, r2_score\n",
    "from sklearn.ensemble import RandomForestRegressor\n",
    "from sklearn.linear_model import LinearRegression\n",
    "import tensorflow as tf\n",
    "from tensorflow.keras.models import Sequential\n",
    "from tensorflow.keras.layers import Dense\n",
    "import optuna\n",
    "import joblib"
   ]
  },
  {
   "cell_type": "code",
   "execution_count": null,
   "id": "d49ba257-4195-4c58-be9b-778ebcd7f09f",
   "metadata": {},
   "outputs": [],
   "source": [
    "# Carga el conjunto de datos\n",
    "url = 'housing.csv'\n",
    "data = pd.read_csv(url)\n",
    "data[\"ocean_proximity\"] = (data[\"ocean_proximity\"] == \"NEAR BAY\").astype(int)"
   ]
  },
  {
   "cell_type": "code",
   "execution_count": null,
   "id": "355fe147-19c8-4a31-a018-fb7c034fc929",
   "metadata": {},
   "outputs": [],
   "source": [
    "# Análisis Exploratorio de Datos (EDA)\n",
    "data.hist(bins=50, figsize=(20, 15))\n",
    "plt.show()"
   ]
  },
  {
   "cell_type": "code",
   "execution_count": null,
   "id": "5a7cd4d3-2868-4c39-9e47-f7289cd771ea",
   "metadata": {},
   "outputs": [],
   "source": [
    "# Correlaciones\n",
    "correlation_matrix = data.corr()\n",
    "plt.figure(figsize=(12, 8))\n",
    "sns.heatmap(correlation_matrix, annot=True, cmap='coolwarm')\n",
    "plt.show()"
   ]
  },
  {
   "cell_type": "code",
   "execution_count": null,
   "id": "2cae3227-20b2-4523-a44f-4932f565bee8",
   "metadata": {},
   "outputs": [],
   "source": [
    "# Outliers - Tratamiento según sea necesario\n",
    "\n",
    "# Valores Faltantes\n",
    "missing_values = data.isnull().sum()\n",
    "print(missing_values)"
   ]
  },
  {
   "cell_type": "code",
   "execution_count": null,
   "id": "7382b4f5-59e4-404c-9436-09b41f7fbeeb",
   "metadata": {},
   "outputs": [],
   "source": [
    "# Tipos de Datos\n",
    "data.info()\n"
   ]
  },
  {
   "cell_type": "code",
   "execution_count": null,
   "id": "1fec5c5e-1bdf-472e-b58c-16bb56f2455f",
   "metadata": {},
   "outputs": [],
   "source": [
    "# Ingeniería/Selección de Características + Limpieza de Datos\n",
    "train_data, test_data = train_test_split(data, test_size=0.2, random_state=42)\n",
    "\n",
    "X_train = train_data.drop(\"median_house_value\", axis=1)\n",
    "y_train = train_data[\"median_house_value\"].copy()\n",
    "\n",
    "imputer = SimpleImputer(strategy='mean')\n",
    "X_train_imputed = imputer.fit_transform(X_train)\n",
    "X_test_imputed = imputer.transform(test_data.drop(\"median_house_value\", axis=1))\n",
    "\n",
    "scaler = StandardScaler()\n",
    "X_train_scaled_imputed = scaler.fit_transform(X_train_imputed)\n",
    "X_test_scaled_imputed = scaler.transform(X_test_imputed)\n"
   ]
  },
  {
   "cell_type": "code",
   "execution_count": null,
   "id": "90906b67-ac0c-43e3-b7a2-7e2f322cd2e4",
   "metadata": {},
   "outputs": [],
   "source": [
    "# Guardar datos preprocesados (puedes almacenarlos en un Feature Store)\n",
    "np.save('X_train.npy', X_train_scaled_imputed)\n",
    "np.save('X_test.npy', X_test_scaled_imputed)\n",
    "np.save('y_train.npy', y_train)"
   ]
  },
  {
   "cell_type": "code",
   "execution_count": null,
   "id": "33294feb-5d36-4bca-b4fb-46b396b9f349",
   "metadata": {},
   "outputs": [],
   "source": []
  }
 ],
 "metadata": {
  "kernelspec": {
   "display_name": "Python 3 (ipykernel)",
   "language": "python",
   "name": "python3"
  },
  "language_info": {
   "codemirror_mode": {
    "name": "ipython",
    "version": 3
   },
   "file_extension": ".py",
   "mimetype": "text/x-python",
   "name": "python",
   "nbconvert_exporter": "python",
   "pygments_lexer": "ipython3",
   "version": "3.11.4"
  }
 },
 "nbformat": 4,
 "nbformat_minor": 5
}
